{
 "cells": [
  {
   "cell_type": "markdown",
   "metadata": {},
   "source": [
    "# the objective of this file is scrape yahoo finance web page: get financial info about companies and add that info to a google sheet "
   ]
  },
  {
   "cell_type": "markdown",
   "metadata": {},
   "source": [
    "## this section creates a list of tickers from a google sheet"
   ]
  },
  {
   "cell_type": "code",
   "execution_count": 1,
   "metadata": {},
   "outputs": [],
   "source": [
    "from oauth2client.service_account import ServiceAccountCredentials\n",
    "from googleapiclient import discovery\n",
    "import re"
   ]
  },
  {
   "cell_type": "code",
   "execution_count": 2,
   "metadata": {},
   "outputs": [],
   "source": [
    "## this function reads a sheet and gets tickers\n",
    "def get_tickers(spreadsheet_id,range_):\n",
    "    ## here we make sure we get authorize\n",
    "    scope = 'https://www.googleapis.com/auth/spreadsheets.readonly'\n",
    "\n",
    "    creds = ServiceAccountCredentials.from_json_keyfile_name('creds.json', scope)\n",
    "\n",
    "    service = discovery.build('sheets', 'v4', credentials=creds)\n",
    "    \n",
    "    ## here we read the sheet an extract the tickers and remember the row of each ticker\n",
    "    sheet = service.spreadsheets()\n",
    "    data = sheet.values().get(spreadsheetId=spreadsheet_id, range=range_).execute()\n",
    "    values = data['values']\n",
    "    tickers = []\n",
    "    row = 0\n",
    "    for item in values:\n",
    "        if item == [] or row < 5:\n",
    "            row += 1\n",
    "            continue\n",
    "        elif len(tickers) < 6:\n",
    "            ticker = re.findall('\\((.*)\\)', item[0])\n",
    "            ticker = ticker[0].lower().strip()\n",
    "            tickers.append(ticker)\n",
    "        else:\n",
    "            break\n",
    "    \n",
    "    return tickers "
   ]
  },
  {
   "cell_type": "markdown",
   "metadata": {},
   "source": [
    "## this section receives the list of tickers and get the financial info from yahoo for each ticker in the list"
   ]
  },
  {
   "cell_type": "code",
   "execution_count": null,
   "metadata": {},
   "outputs": [],
   "source": [
    "## getting the tickers\n",
    "tickers = get_tickers('1R0h3A6cmfqbCV7788cLK3DdyRirREs8KbHxppulbf98', 'hoja 1')"
   ]
  },
  {
   "cell_type": "code",
   "execution_count": null,
   "metadata": {},
   "outputs": [],
   "source": [
    "from selenium import webdriver\n",
    "from selenium.webdriver.support.ui import WebDriverWait\n",
    "from selenium.webdriver.support import expected_conditions as EC \n",
    "from selenium.webdriver.common.by import By\n",
    "from selenium.common.exceptions import TimeoutException\n",
    "import time"
   ]
  },
  {
   "cell_type": "code",
   "execution_count": null,
   "metadata": {},
   "outputs": [],
   "source": [
    "## this function gets the financial info from yahoo finance\n",
    "def get_financials(ticker):\n",
    "    driver = webdriver.Chrome(executable_path='./chromedriver')\n",
    "    url = 'https://finance.yahoo.com/'\n",
    "    driver.get(url)\n",
    "    ## generar demora inteligente\n",
    "    delay = 10\n",
    "    try:\n",
    "        page_loaded = WebDriverWait(driver, delay).until(EC.presence_of_element_located((By.XPATH, '//form[@id=\"header-search-form\"]/input[@id=\"yfin-usr-qry\"]')))\n",
    "        print('the home page loaded')\n",
    "        ## searching tickers\n",
    "        search_box = driver.find_element_by_xpath('//form[@id=\"header-search-form\"]/input       [@id=\"yfin-usr-qry\"]')\n",
    "        search_box.send_keys(ticker)\n",
    "        search_button = driver.find_element_by_xpath('//form[@id=\"header-search-form\"]//button[@id=\"header-desktop-search-button\"]')\n",
    "        search_button.click()\n",
    "    except TimeoutException:\n",
    "        print('the page took too long to load')\n",
    "    ## close the browser\n",
    "    driver.close()"
   ]
  },
  {
   "cell_type": "markdown",
   "metadata": {},
   "source": [
    "## this section sends the financial info to a google sheet"
   ]
  }
 ],
 "metadata": {
  "kernelspec": {
   "display_name": "Python 3",
   "language": "python",
   "name": "python3"
  },
  "language_info": {
   "codemirror_mode": {
    "name": "ipython",
    "version": 3
   },
   "file_extension": ".py",
   "mimetype": "text/x-python",
   "name": "python",
   "nbconvert_exporter": "python",
   "pygments_lexer": "ipython3",
   "version": "3.7.3"
  }
 },
 "nbformat": 4,
 "nbformat_minor": 2
}